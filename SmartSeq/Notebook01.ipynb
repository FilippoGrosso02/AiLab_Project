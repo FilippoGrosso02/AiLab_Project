{
 "cells": [
  {
   "attachments": {},
   "cell_type": "markdown",
   "metadata": {},
   "source": [
    "Gene expressions: cells in the columns, genes in the row\n",
    "# number of that gene expression in the row\n",
    "\n",
    "2 cell lines: 2 types of cancers, cells were taken and put in culture\n",
    "\n",
    "-predict a new cell hypoxia or normoxia, for each cell line and types\n",
    "-which genes are more important\n",
    "\n",
    "\n"
   ]
  }
 ],
 "metadata": {
  "kernelspec": {
   "display_name": "base",
   "language": "python",
   "name": "python3"
  },
  "language_info": {
   "name": "python",
   "version": "3.9.13"
  },
  "orig_nbformat": 4
 },
 "nbformat": 4,
 "nbformat_minor": 2
}
